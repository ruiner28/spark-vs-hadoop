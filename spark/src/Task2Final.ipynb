{
 "cells": [
  {
   "cell_type": "code",
   "execution_count": 1,
   "id": "31b39ac4-0914-45e4-b101-fd665087e37a",
   "metadata": {},
   "outputs": [],
   "source": [
    "# import necessary libraries\n",
    "import pandas as pd \n",
    "import numpy\n",
    "import matplotlib.pyplot as plt \n",
    "from pyspark.sql import SparkSession, dataframe\n",
    "import plotly.express as px\n",
    "from pyspark.sql import functions as F\n",
    "\n",
    "geojson = px.data.gapminder()\n",
    "# create sparksession\n",
    "spark = SparkSession \\\n",
    "    .builder \\\n",
    "    .appName(\"CS531Task2\") \\\n",
    "    .getOrCreate()"
   ]
  },
  {
   "cell_type": "code",
   "execution_count": 2,
   "id": "f6d07b9e-7b68-4447-8078-da5fb4be943e",
   "metadata": {},
   "outputs": [],
   "source": [
    "sc = spark.sparkContext"
   ]
  },
  {
   "cell_type": "code",
   "execution_count": 3,
   "id": "01b763fa-e475-4606-94e2-4b3a861ccabf",
   "metadata": {},
   "outputs": [],
   "source": [
    "# Utility function to write query plans to a file\n",
    "# you will be using this to understand how your queries are being processed\n",
    "def write_explain(df: dataframe.DataFrame, output_path: str = \"out2.txt\"):\n",
    "    from contextlib import redirect_stdout\n",
    "    with open(output_path, \"w\") as f:\n",
    "        with redirect_stdout(f):\n",
    "            df.explain(extended=True)"
   ]
  },
  {
   "cell_type": "code",
   "execution_count": null,
   "id": "0a9bdadc-bd16-402c-9ced-dee302943b16",
   "metadata": {},
   "outputs": [],
   "source": [
    "#Spark SQL based approach\n",
    "\n",
    "#Read the dataset\n",
    "sdf = spark.read.csv(\"../data/StateAndCountyData.csv\", header=True)\n",
    "\n",
    "#Trimming the spaces in column in State\n",
    "sdf = sdf.withColumn(\"State\", F.trim(sdf[\"State\"]))\n",
    "\n",
    "#Converting Value column from string to float\n",
    "sdf = sdf.withColumn(\"Value\", F.col(\"Value\").cast(\"float\"))\n",
    "\n",
    "#Filtering rows according to variable code having 2011 year's grocery info\n",
    "groceryStores2011 = sdf.select(\"State\", \"County\", \"Variable_Code\", \"Value\").filter(sdf[\"Variable_Code\"] == \"GROCPTH11\")\n",
    "\n",
    "#Calculating avg value of stores for each State in 2011\n",
    "stateWiseSum2011 = (groceryStores2011\n",
    "                    .groupBy(\"State\")\n",
    "                    .agg((F.sum(\"Value\") / F.countDistinct(\"County\")).cast(\"float\")\n",
    "                         .alias(\"Grocery Stores per 1000 people in 2011\"))\n",
    "                   )\n",
    "\n",
    "#Filtering rows having 2016 year's grocery info\n",
    "groceryStores2016 = sdf.select(\"State\", \"County\", \"Variable_Code\", \"Value\").filter(sdf[\"Variable_Code\"] == \"GROCPTH16\")\n",
    "\n",
    "#Calculating avg value of stores for each State in 2016\n",
    "stateWiseSum2016 = (groceryStores2016\n",
    "                    .groupBy(\"State\")\n",
    "                    .agg((F.sum(\"Value\") / F.countDistinct(\"County\")).cast(\"float\")\n",
    "                         .alias(\"Grocery Stores per 1000 people in 2016\"))\n",
    "                   )\n",
    "\n",
    "#Joining the 2011 and 2016 dataframes\n",
    "joined_df = stateWiseSum2016.join(stateWiseSum2011, 'State')\n",
    "\n",
    "#SQL query to get the top 3 states with maximum positive difference between 2011 and 2016\n",
    "joined_df.createOrReplaceTempView(\"grocery_stores\")\n",
    "\n",
    "query = \"\"\"SELECT \n",
    "    *,\n",
    "    (`Grocery Stores per 1000 people in 2016` - `Grocery Stores per 1000 people in 2011`) AS Change\n",
    "FROM \n",
    "    grocery_stores\n",
    "ORDER BY \n",
    "    Change DESC\n",
    "LIMIT 3\"\"\"\n",
    "\n",
    "# Execute the query\n",
    "topStates = spark.sql(query)"
   ]
  },
  {
   "cell_type": "code",
   "execution_count": 5,
   "id": "5b26b8bd-c69f-482b-8733-9888a9fb604d",
   "metadata": {
    "scrolled": true
   },
   "outputs": [
    {
     "name": "stdout",
     "output_type": "stream",
     "text": [
      "+-----+--------------------------------------+--------------------------------------+-----------+\n",
      "|State|Grocery Stores per 1000 people in 2016|Grocery Stores per 1000 people in 2011|     Change|\n",
      "+-----+--------------------------------------+--------------------------------------+-----------+\n",
      "|   AK|                            0.72680545|                            0.69263047| 0.03417498|\n",
      "|   CO|                             0.3942081|                             0.3689442|0.025263906|\n",
      "|   MA|                            0.26548636|                            0.24436969|0.021116674|\n",
      "+-----+--------------------------------------+--------------------------------------+-----------+\n",
      "\n"
     ]
    }
   ],
   "source": [
    "# Show the result\n",
    "topStates.show()"
   ]
  },
  {
   "cell_type": "code",
   "execution_count": 6,
   "id": "a6b807b5-2211-4e3f-9ab5-e63ce797e0b4",
   "metadata": {},
   "outputs": [
    {
     "name": "stdout",
     "output_type": "stream",
     "text": [
      "285 ms ± 44.4 ms per loop (mean ± std. dev. of 7 runs, 1 loop each)\n"
     ]
    }
   ],
   "source": [
    "#Calculating time for Spark SQL\n",
    "\n",
    "def sparkSQL():\n",
    "    sdf = spark.read.csv(\"../data/StateAndCountyData.csv\", header=True)\n",
    "    sdf = sdf.withColumn(\"State\", F.trim(sdf[\"State\"]))\n",
    "    sdf = sdf.withColumn(\"Value\", F.col(\"Value\").cast(\"float\"))\n",
    "    \n",
    "    groceryStores2011 = sdf.select(\"State\", \"County\", \"Variable_Code\", \"Value\").filter(sdf[\"Variable_Code\"] == \"GROCPTH11\")\n",
    "    stateWiseSum2011 = (groceryStores2011\n",
    "                        .groupBy(\"State\")\n",
    "                        .agg((F.sum(\"Value\") / F.countDistinct(\"County\")).cast(\"float\")\n",
    "                             .alias(\"Grocery Stores per 1000 people in 2011\"))\n",
    "                       )\n",
    "\n",
    "    \n",
    "    groceryStores2016 = sdf.select(\"State\", \"County\", \"Variable_Code\", \"Value\").filter(sdf[\"Variable_Code\"] == \"GROCPTH16\")\n",
    "    stateWiseSum2016 = (groceryStores2016\n",
    "                        .groupBy(\"State\")\n",
    "                        .agg((F.sum(\"Value\") / F.countDistinct(\"County\")).cast(\"float\")\n",
    "                             .alias(\"Grocery Stores per 1000 people in 2016\"))\n",
    "                       )\n",
    "    \n",
    "    joined_df = stateWiseSum2016.join(stateWiseSum2011, 'State')\n",
    "    \n",
    "    joined_df.createOrReplaceTempView(\"grocery_stores\")\n",
    "    \n",
    "    query = \"\"\"SELECT \n",
    "        *,\n",
    "        (`Grocery Stores per 1000 people in 2016` - `Grocery Stores per 1000 people in 2011`) AS Change\n",
    "    FROM \n",
    "        grocery_stores\n",
    "    ORDER BY \n",
    "        Change DESC\n",
    "    LIMIT 3\"\"\"\n",
    "    \n",
    "    topStates = spark.sql(query)\n",
    "\n",
    "\n",
    "# Time the function execution 5 times\n",
    "%timeit -n 1 sparkSQL()"
   ]
  },
  {
   "cell_type": "code",
   "execution_count": null,
   "id": "c94f0554-247e-496d-964a-47fc1475758b",
   "metadata": {},
   "outputs": [],
   "source": [
    "#Spark RDD based approach (Resilient Distributed Dataset)\n",
    "\n",
    "#Read the dataset\n",
    "sdf = spark.read.csv(\"../data/StateAndCountyData.csv\", header=True)\n",
    "\n",
    "#Convert spark dataframe to RDD\n",
    "rdd = sdf.rdd\n",
    "\n",
    "# Filter the RDD to have rows with 'GROCPTH11' or 'GROCPTH16'\n",
    "filtered_rdd_2011_16 = rdd.filter(lambda row: row.Variable_Code == 'GROCPTH11' or row.Variable_Code == 'GROCPTH16')\n",
    "\n",
    "# Map to key-value pairs (key: State:Varibale_Code, Value: (Value of stores, 1))\n",
    "# Also keeping columns of State and Variable Code\n",
    "mapped_rdd_2011_16 = filtered_rdd_2011_16.map(lambda row: (row.State+':'+row.Variable_Code, \\\n",
    "                                                               (float(row.Value), 1, row.State, row.Variable_Code)))\n",
    "\n",
    "# Reduce by key to sum the values of stores and count the total counties in State\n",
    "# Also keeping columns of State and Variable Code\n",
    "reduced_rdd_2011_16 = mapped_rdd_2011_16.reduceByKey(lambda a, b: (a[0] + b[0], a[1] + b[1], a[2], a[3]))\n",
    "\n",
    "# Calculate the average value of stores for each State\n",
    "# Also keeping columns of State and Variable Code\n",
    "final_res_rdd_2011_16 = reduced_rdd_2011_16.mapValues(lambda x: (x[0] / x[1] , x[2],x[3]))\n",
    "\n",
    "# Map key:State to Value: Avg value of stores, Variable code.\n",
    "# Sort by Variable code \n",
    "mapped_diff_rdd_2011_16 = final_res_rdd_2011_16.map(lambda row: (row[1][1],(row[1][2], row[1][0]))).sortBy(lambda r:r[1][0])\n",
    "\n",
    "# Reduce by key to get diff between 2016-2011\n",
    "# Sort by diff calculated and take top 3. Parallelized by sc.parallelize\n",
    "reduced_diff_rdd_2011_16 = sc.parallelize(mapped_diff_rdd_2011_16.reduceByKey(lambda a,b: b[1]-a[1]).sortBy(lambda r: -r[1]).take(3))\n",
    "\n",
    "# Preparing rdd of 2011 and 2016 actual avg store values to join with diff RDD\n",
    "final_ordered = final_res_rdd_2011_16.map(lambda row: (row[1][1], (row[1][0],row[1][2])))\n",
    "df_11 = final_ordered.filter(lambda row : row[1][1] == 'GROCPTH11')\n",
    "df_16 = final_ordered.filter(lambda row : row[1][1] == 'GROCPTH16')\n",
    "\n",
    "# Join diff rdd with actual 2016 and 2011 rdds\n",
    "final_result = df_11.join(df_16).join(reduced_diff_rdd_2011_16).\\\n",
    "    map(lambda row: (row[0], row[1][0][0][0], row[1][0][1][0],row[1][1])).sortBy(lambda row: -row[3])"
   ]
  },
  {
   "cell_type": "code",
   "execution_count": 8,
   "id": "3a517e1b-aa0d-4729-8c82-4903433e21c5",
   "metadata": {},
   "outputs": [
    {
     "name": "stdout",
     "output_type": "stream",
     "text": [
      "+-----+--------------------------------------+--------------------------------------+--------------------+\n",
      "|State|Grocery Stores per 1000 people in 2011|Grocery Stores per 1000 people in 2016|              Change|\n",
      "+-----+--------------------------------------+--------------------------------------+--------------------+\n",
      "|   AK|                    0.6926304815862069|                    0.7268054810689656|0.034174999482758706|\n",
      "|   CO|                   0.36894420426562513|                   0.39420811356249996| 0.02526390929687483|\n",
      "|   MA|                   0.24436968442857143|                           0.265486355|0.021116670571428575|\n",
      "+-----+--------------------------------------+--------------------------------------+--------------------+\n",
      "\n"
     ]
    }
   ],
   "source": [
    "# Rename columns and display results\n",
    "final_result.toDF().withColumnRenamed('_1', 'State').withColumnRenamed('_2', 'Grocery Stores per 1000 people in 2011'). \\\n",
    "    withColumnRenamed('_3', 'Grocery Stores per 1000 people in 2016').withColumnRenamed('_4', 'Change').show()"
   ]
  },
  {
   "cell_type": "code",
   "execution_count": null,
   "id": "7b7236d9-8072-4dc3-8519-322eb9b977aa",
   "metadata": {},
   "outputs": [],
   "source": [
    "#Calculating time for Spark RDD (Resilient Distributed Dataset)\n",
    "def sparkRDD():\n",
    "\n",
    "    sdf = spark.read.csv(\"../data/StateAndCountyData.csv\", header=True)\n",
    "    #Converting data to RDD\n",
    "    rdd = sdf.rdd\n",
    "\n",
    "    filtered_rdd_2011_16 = rdd.filter(lambda row: row.Variable_Code == 'GROCPTH11' or row.Variable_Code == 'GROCPTH16')\n",
    "    \n",
    "    mapped_rdd_2011_16 = filtered_rdd_2011_16.map(lambda row: (row.State+':'+row.Variable_Code, \\\n",
    "                                                               (float(row.Value), 1, row.State, row.Variable_Code)))\n",
    "    reduced_rdd_2011_16 = mapped_rdd_2011_16.reduceByKey(lambda a, b: (a[0] + b[0], a[1] + b[1], a[2], a[3]))\n",
    "    final_res_rdd_2011_16 = reduced_rdd_2011_16.mapValues(lambda x: (x[0] / x[1] , x[2],x[3]))\n",
    "    \n",
    "    diff = sc.parallelize(final_res_rdd_2011_16.map(lambda row: (row[1][1],(row[1][2], row[1][0]))). \\\n",
    "                          sortBy(lambda r:r[1][0]).reduceByKey(lambda a,b: b[1]-a[1]). \\\n",
    "                          sortBy(lambda r: -r[1]).take(3))\n",
    "    \n",
    "    final_ordered = final_res_rdd_2011_16.map(lambda row: (row[1][1], (row[1][0],row[1][2])))\n",
    "    df_11 = final_ordered.filter(lambda row : row[1][1] == 'GROCPTH11')\n",
    "    df_16 = final_ordered.filter(lambda row : row[1][1] == 'GROCPTH16')\n",
    "    \n",
    "    final_result = df_11.join(df_16).join(diff).map(lambda row: (row[0], row[1][0][0][0], row[1][0][1][0],row[1][1]))\n",
    "    \n",
    "%timeit -n 1 sparkRDD()"
   ]
  },
  {
   "cell_type": "code",
   "execution_count": 10,
   "id": "cd84722c-20b6-4fc0-aa45-385271ff9ec6",
   "metadata": {},
   "outputs": [
    {
     "data": {
      "text/plain": [
       "<Axes: xlabel='State'>"
      ]
     },
     "execution_count": 10,
     "metadata": {},
     "output_type": "execute_result"
    },
    {
     "data": {
      "image/png": "[encoded data removed]",
      "text/plain": [
       "<Figure size 640x480 with 1 Axes>"
      ]
     },
     "metadata": {},
     "output_type": "display_data"
    }
   ],
   "source": [
    "#Plotting bar graph\n",
    "\n",
    "# Collect data from Spark DataFrame\n",
    "top3States = topStates.collect()\n",
    "\n",
    "#Converting to pandas dataframe\n",
    "results_df = pd.DataFrame([(row.State, row[\"Grocery Stores per 1000 people in 2011\"], row[\"Grocery Stores per 1000 people in 2016\"]) for row in top3States],\n",
    "                          columns=[\"State\", \"Grocery Stores per 1000 people in 2011\", \"Grocery Stores per 1000 people in 2016\"])\n",
    "\n",
    "# plotting graph \n",
    "results_df.plot(x=\"State\", y=[\"Grocery Stores per 1000 people in 2011\", \"Grocery Stores per 1000 people in 2016\"], kind=\"bar\") "
   ]
  },
  {
   "cell_type": "code",
   "execution_count": null,
   "id": "013e5d54-97d4-4567-b463-7e20627f3dc1",
   "metadata": {},
   "outputs": [],
   "source": []
  }
 ],
 "metadata": {
  "kernelspec": {
   "display_name": "Python 3 (ipykernel)",
   "language": "python",
   "name": "python3"
  },
  "language_info": {
   "codemirror_mode": {
    "name": "ipython",
    "version": 3
   },
   "file_extension": ".py",
   "mimetype": "text/x-python",
   "name": "python",
   "nbconvert_exporter": "python",
   "pygments_lexer": "ipython3",
   "version": "3.11.6"
  }
 },
 "nbformat": 4,
 "nbformat_minor": 5
}
