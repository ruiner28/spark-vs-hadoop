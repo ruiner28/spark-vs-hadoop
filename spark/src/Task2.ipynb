{
 "cells": [
  {
   "cell_type": "code",
   "execution_count": 1,
   "id": "0ca8e1d6-de59-4566-b6bb-585002eb2cf0",
   "metadata": {},
   "outputs": [],
   "source": [
    "# import necessary libraries\n",
    "import pandas as pd \n",
    "import numpy\n",
    "import matplotlib.pyplot as plt \n",
    "from pyspark.sql import SparkSession, dataframe\n",
    "import plotly.express as px\n",
    "from pyspark.sql.functions import sum, max\n",
    "geojson = px.data.gapminder()\n",
    "# create sparksession\n",
    "spark = SparkSession \\\n",
    "    .builder \\\n",
    "    .appName(\"CS531Task1\") \\\n",
    "    .getOrCreate()"
   ]
  },
  {
   "cell_type": "code",
   "execution_count": 2,
   "id": "b28edf3a-8ef4-436c-b777-c936710cbe92",
   "metadata": {},
   "outputs": [],
   "source": [
    "sc = spark.sparkContext"
   ]
  },
  {
   "cell_type": "code",
   "execution_count": 3,
   "id": "1e136aa8-0fc5-4706-b3dc-a0ae9f737ffa",
   "metadata": {},
   "outputs": [],
   "source": [
    "# Utility function to write query plans to a file\n",
    "# you will be using this to understand how your queries are being processed\n",
    "def write_explain(df: dataframe.DataFrame, output_path: str = \"out.txt\"):\n",
    "    from contextlib import redirect_stdout\n",
    "    with open(output_path, \"w\") as f:\n",
    "        with redirect_stdout(f):\n",
    "            df.explain(extended=True)"
   ]
  },
  {
   "cell_type": "code",
   "execution_count": 4,
   "id": "ebb7793b-6ac9-4fca-b372-acfafa04c5c6",
   "metadata": {},
   "outputs": [
    {
     "name": "stdout",
     "output_type": "stream",
     "text": [
      "292 ms ± 56 ms per loop (mean ± std. dev. of 7 runs, 1 loop each)\n"
     ]
    }
   ],
   "source": [
    "%%timeit\n",
    "sdf = spark.read.csv(\"../data/StateAndCountyData.csv\", header=True)"
   ]
  },
  {
   "cell_type": "code",
   "execution_count": 5,
   "id": "19e7dcd2-a49e-456c-b706-c81edebcfa95",
   "metadata": {},
   "outputs": [
    {
     "data": {
      "text/plain": [
       "['FIPS', 'State', 'County', 'Variable_Code', 'Value']"
      ]
     },
     "execution_count": 5,
     "metadata": {},
     "output_type": "execute_result"
    }
   ],
   "source": [
    "sdf = spark.read.csv(\"../data/StateAndCountyData.csv\", header=True)\n",
    "sdf.columns"
   ]
  },
  {
   "cell_type": "code",
   "execution_count": 6,
   "id": "90a321cc-be3f-49e2-92c7-283f395b9647",
   "metadata": {},
   "outputs": [],
   "source": [
    "#Trimming the spaces in column in State\n",
    "from pyspark.sql.functions import trim\n",
    "\n",
    "sdf = sdf.withColumn(\"State\", trim(sdf[\"State\"]))"
   ]
  },
  {
   "cell_type": "code",
   "execution_count": 7,
   "id": "4fb9ade3-7bbe-44f2-a13a-dd7d7ad7e8ad",
   "metadata": {},
   "outputs": [
    {
     "name": "stdout",
     "output_type": "stream",
     "text": [
      "+----+-----+-------+--------------------+----------+\n",
      "|FIPS|State| County|       Variable_Code|     Value|\n",
      "+----+-----+-------+--------------------+----------+\n",
      "|1001|   AL|Autauga|       LACCESS_POP10|  18428.44|\n",
      "|1001|   AL|Autauga|       LACCESS_POP15| 17496.693|\n",
      "|1001|   AL|Autauga|PCH_LACCESS_POP_1...|-5.0560255|\n",
      "|1001|   AL|Autauga|   PCT_LACCESS_POP10| 33.769657|\n",
      "|1001|   AL|Autauga|   PCT_LACCESS_POP15| 32.062256|\n",
      "|1001|   AL|Autauga|      LACCESS_LOWI10| 5344.4272|\n",
      "|1001|   AL|Autauga|      LACCESS_LOWI15|  6543.677|\n",
      "|1001|   AL|Autauga|PCH_LACCESS_LOWI_...| 22.439249|\n",
      "|1001|   AL|Autauga|  PCT_LACCESS_LOWI10|   9.79353|\n",
      "|1001|   AL|Autauga|  PCT_LACCESS_LOWI15| 11.991125|\n",
      "|1001|   AL|Autauga|      LACCESS_HHNV10|  664.2165|\n",
      "|1001|   AL|Autauga|      LACCESS_HHNV15|  677.6728|\n",
      "|1001|   AL|Autauga|PCH_LACCESS_HHNV_...|  2.025888|\n",
      "|1001|   AL|Autauga|  PCT_LACCESS_HHNV10| 3.2847855|\n",
      "|1001|   AL|Autauga|  PCT_LACCESS_HHNV15| 3.3513317|\n",
      "|1001|   AL|Autauga|      LACCESS_SNAP15|  931.9352|\n",
      "|1001|   AL|Autauga|  PCT_LACCESS_SNAP15| 4.6087494|\n",
      "|1001|   AL|Autauga|     LACCESS_CHILD10| 4822.5005|\n",
      "|1001|   AL|Autauga|     LACCESS_CHILD15| 4616.9717|\n",
      "|1001|   AL|Autauga| LACCESS_CHILD_10_15| -4.261872|\n",
      "+----+-----+-------+--------------------+----------+\n",
      "only showing top 20 rows\n",
      "\n"
     ]
    }
   ],
   "source": [
    "#Converting Value column from string to float\n",
    "from pyspark.sql.functions import col\n",
    "\n",
    "sdf = sdf.withColumn(\"Value\", col(\"Value\").cast(\"float\"))\n",
    "sdf.show()"
   ]
  },
  {
   "cell_type": "code",
   "execution_count": 8,
   "id": "a3724f7a-97d8-41d6-98ad-de975e70e151",
   "metadata": {},
   "outputs": [
    {
     "name": "stdout",
     "output_type": "stream",
     "text": [
      "FloatType()\n"
     ]
    }
   ],
   "source": [
    "print(sdf.schema['Value'].dataType)"
   ]
  },
  {
   "cell_type": "code",
   "execution_count": 9,
   "id": "46aa8d96-d850-41db-bca4-ecc37f374f74",
   "metadata": {},
   "outputs": [
    {
     "name": "stdout",
     "output_type": "stream",
     "text": [
      "3143\n",
      "['State', 'County', 'Variable_Code', 'Value']\n"
     ]
    }
   ],
   "source": [
    "#Filtering rows having 2011 year's grocery info\"\n",
    "groceryStores2011 = sdf.select(\"State\", \"County\", \"Variable_Code\", \"Value\").filter(sdf[\"Variable_Code\"] == \"GROCPTH11\")\n",
    "print(groceryStores2011.count())\n",
    "print(groceryStores2011.columns)"
   ]
  },
  {
   "cell_type": "code",
   "execution_count": 10,
   "id": "de65814a-fa74-4dee-acce-68fb8fee1463",
   "metadata": {},
   "outputs": [
    {
     "name": "stdout",
     "output_type": "stream",
     "text": [
      "+-----+----------+-------------+-----------+\n",
      "|State|    County|Variable_Code|      Value|\n",
      "+-----+----------+-------------+-----------+\n",
      "|   KS|     Allen|    GROCPTH11| 0.14993627|\n",
      "|   KS|  Anderson|    GROCPTH11|  0.3722546|\n",
      "|   KS|  Atchison|    GROCPTH11| 0.17906171|\n",
      "|   KS|    Barber|    GROCPTH11|  1.2180268|\n",
      "|   KS|    Barton|    GROCPTH11| 0.14438869|\n",
      "|   KS|   Bourbon|    GROCPTH11| 0.13385984|\n",
      "|   KS|     Brown|    GROCPTH11|0.100280784|\n",
      "|   KS|    Butler|    GROCPTH11| 0.12153252|\n",
      "|   KS|     Chase|    GROCPTH11| 0.36127168|\n",
      "|   KS|Chautauqua|    GROCPTH11| 0.27708507|\n",
      "|   KS|  Cherokee|    GROCPTH11|  0.2341701|\n",
      "|   KS|  Cheyenne|    GROCPTH11|  1.4853324|\n",
      "|   KS|     Clark|    GROCPTH11|  0.4716981|\n",
      "|   KS|      Clay|    GROCPTH11| 0.11728829|\n",
      "|   KS|     Cloud|    GROCPTH11| 0.21238187|\n",
      "|   KS|    Coffey|    GROCPTH11|  0.2356823|\n",
      "|   KS|  Comanche|    GROCPTH11|  1.0638298|\n",
      "|   KS|    Cowley|    GROCPTH11| 0.11039051|\n",
      "|   KS|  Crawford|    GROCPTH11| 0.15312372|\n",
      "|   KS|   Decatur|    GROCPTH11|  0.3417635|\n",
      "+-----+----------+-------------+-----------+\n",
      "only showing top 20 rows\n",
      "\n"
     ]
    }
   ],
   "source": [
    "dfAZ = groceryStores2011.filter(groceryStores2011['State'] == 'KS')\n",
    "dfAZ.show()"
   ]
  },
  {
   "cell_type": "code",
   "execution_count": 11,
   "id": "f0dc9d76-8339-431a-aee1-15a17e53fbab",
   "metadata": {},
   "outputs": [
    {
     "name": "stdout",
     "output_type": "stream",
     "text": [
      "+-----------------+\n",
      "|        total_sum|\n",
      "+-----------------+\n",
      "|36.00174254924059|\n",
      "+-----------------+\n",
      "\n"
     ]
    }
   ],
   "source": [
    "total_sum = dfAZ.agg(sum(\"Value\").alias(\"total_sum\"))\n",
    "\n",
    "# Show the result\n",
    "total_sum.show()"
   ]
  },
  {
   "cell_type": "code",
   "execution_count": 12,
   "id": "6fdf9487-cedd-4bae-a538-de9d69875a27",
   "metadata": {},
   "outputs": [
    {
     "name": "stdout",
     "output_type": "stream",
     "text": [
      "+-----------------+\n",
      "|       sum(Value)|\n",
      "+-----------------+\n",
      "|36.00174254924059|\n",
      "+-----------------+\n",
      "\n"
     ]
    }
   ],
   "source": [
    "dfAZ.agg(sum(\"Value\")).show()"
   ]
  },
  {
   "cell_type": "code",
   "execution_count": 13,
   "id": "20379560-12cb-48c4-bcca-d892ed512e40",
   "metadata": {},
   "outputs": [
    {
     "name": "stdout",
     "output_type": "stream",
     "text": [
      "3143\n",
      "['State', 'County', 'Variable_Code', 'Value']\n"
     ]
    }
   ],
   "source": [
    "#Select required columns\n",
    "groceryStores2016 = sdf.select(\"State\", \"County\", \"Variable_Code\", \"Value\").filter(sdf[\"Variable_Code\"] == \"GROCPTH16\")\n",
    "print(groceryStores2016.count())\n",
    "print(groceryStores2016.columns)"
   ]
  },
  {
   "cell_type": "code",
   "execution_count": 14,
   "id": "8e45961a-6f63-4d0c-86d2-054aeca47913",
   "metadata": {},
   "outputs": [
    {
     "name": "stdout",
     "output_type": "stream",
     "text": [
      "+-----+---------+-------------+----------+\n",
      "|State|   County|Variable_Code|     Value|\n",
      "+-----+---------+-------------+----------+\n",
      "|   AL|  Autauga|    GROCPTH16| 0.0542711|\n",
      "|   AL|  Baldwin|    GROCPTH16|0.13975297|\n",
      "|   AL|  Barbour|    GROCPTH16|0.15519516|\n",
      "|   AL|     Bibb|    GROCPTH16|0.22091636|\n",
      "|   AL|   Blount|    GROCPTH16|0.08686286|\n",
      "|   AL|  Bullock|    GROCPTH16| 0.2873288|\n",
      "|   AL|   Butler|    GROCPTH16|0.15026297|\n",
      "|   AL|  Calhoun|    GROCPTH16|0.23482345|\n",
      "|   AL| Chambers|    GROCPTH16| 0.2076104|\n",
      "|   AL| Cherokee|    GROCPTH16|0.19405419|\n",
      "|   AL|  Chilton|    GROCPTH16|0.11407711|\n",
      "|   AL|  Choctaw|    GROCPTH16|0.22988506|\n",
      "|   AL|   Clarke|    GROCPTH16|0.24640657|\n",
      "|   AL|     Clay|    GROCPTH16|0.22371365|\n",
      "|   AL| Cleburne|    GROCPTH16|0.13447186|\n",
      "|   AL|   Coffee|    GROCPTH16|0.13667338|\n",
      "|   AL|  Colbert|    GROCPTH16|0.14725643|\n",
      "|   AL|  Conecuh|    GROCPTH16|0.07990412|\n",
      "|   AL|    Coosa|    GROCPTH16| 0.0925155|\n",
      "|   AL|Covington|    GROCPTH16|0.16048789|\n",
      "+-----+---------+-------------+----------+\n",
      "only showing top 20 rows\n",
      "\n"
     ]
    }
   ],
   "source": [
    "groceryStores2016.show()"
   ]
  },
  {
   "cell_type": "code",
   "execution_count": 15,
   "id": "2a459a19-d661-4af2-8087-c172e118125d",
   "metadata": {},
   "outputs": [
    {
     "name": "stdout",
     "output_type": "stream",
     "text": [
      "+-----+--------------------------------------+\n",
      "|State|Grocery Stores per 1000 people in 2011|\n",
      "+-----+--------------------------------------+\n",
      "|   SC|                            0.19876717|\n",
      "|   AZ|                            0.14468507|\n",
      "|   LA|                            0.22087158|\n",
      "|   MN|                            0.27297828|\n",
      "|   NJ|                              0.271296|\n",
      "|   DC|                            0.28049314|\n",
      "|   OR|                            0.33507088|\n",
      "|   VA|                            0.22909123|\n",
      "|   RI|                            0.16916852|\n",
      "|   KY|                            0.22006683|\n",
      "|   WY|                            0.26851052|\n",
      "|   NH|                            0.23924553|\n",
      "|   MI|                            0.25252953|\n",
      "|   NV|                            0.28536123|\n",
      "|   WI|                            0.20500275|\n",
      "|   ID|                            0.27207255|\n",
      "|   CA|                            0.27435142|\n",
      "|   NE|                             0.5128809|\n",
      "|   CT|                            0.19463973|\n",
      "|   MT|                             0.4770483|\n",
      "|   NC|                            0.20002772|\n",
      "|   VT|                            0.39345694|\n",
      "|   MD|                            0.19688636|\n",
      "|   DE|                            0.16936854|\n",
      "|   MO|                            0.23852359|\n",
      "|   IL|                            0.21915324|\n",
      "|   ME|                              0.318499|\n",
      "|   ND|                             0.5214014|\n",
      "|   WA|                            0.28723946|\n",
      "|   MS|                            0.20145126|\n",
      "|   AL|                            0.20857415|\n",
      "|   IN|                            0.17909637|\n",
      "|   OH|                            0.18243209|\n",
      "|   TN|                             0.1921993|\n",
      "|   IA|                              0.258871|\n",
      "|   NM|                            0.22653523|\n",
      "|   PA|                            0.20698822|\n",
      "|   SD|                             0.4215797|\n",
      "|   NY|                            0.29468805|\n",
      "|   TX|                            0.21926247|\n",
      "|   WV|                            0.21982051|\n",
      "|   GA|                            0.19741847|\n",
      "|   MA|                            0.24436969|\n",
      "|   KS|                            0.34287375|\n",
      "|   FL|                            0.17917514|\n",
      "|   CO|                             0.3689442|\n",
      "|   AK|                            0.69263047|\n",
      "|   AR|                             0.2072092|\n",
      "|   OK|                             0.2116107|\n",
      "|   UT|                            0.29848734|\n",
      "|   HI|                            0.19311477|\n",
      "+-----+--------------------------------------+\n",
      "\n"
     ]
    }
   ],
   "source": [
    "#State wise sum of grocery stores per 1000 people in 2011\n",
    "from pyspark.sql import functions as F\n",
    "\n",
    "stateWiseSum2011 = (groceryStores2011\n",
    "                    .groupBy(\"State\")\n",
    "                    .agg((F.sum(\"Value\") / F.countDistinct(\"County\")).cast(\"float\")\n",
    "                         .alias(\"Grocery Stores per 1000 people in 2011\"))\n",
    "                   )\n",
    "stateWiseSum2011.show(51)"
   ]
  },
  {
   "cell_type": "code",
   "execution_count": 16,
   "id": "1f6643e3-7247-4d1b-b000-09007f4411a1",
   "metadata": {},
   "outputs": [
    {
     "name": "stdout",
     "output_type": "stream",
     "text": [
      "+-----+--------------------------------------+\n",
      "|State|Grocery Stores per 1000 people in 2016|\n",
      "+-----+--------------------------------------+\n",
      "|   SC|                             0.1743405|\n",
      "|   AZ|                            0.14552121|\n",
      "|   LA|                            0.19431935|\n",
      "|   MN|                            0.26038274|\n",
      "|   NJ|                            0.26881546|\n",
      "|   DC|                            0.27179632|\n",
      "|   OR|                            0.28742978|\n",
      "|   VA|                             0.2201266|\n",
      "|   RI|                            0.17477185|\n",
      "|   KY|                             0.1985702|\n",
      "|   WY|                            0.24473523|\n",
      "|   NH|                            0.21243803|\n",
      "|   MI|                            0.24748085|\n",
      "|   NV|                             0.2723688|\n",
      "|   WI|                            0.20111148|\n",
      "|   ID|                            0.28282478|\n",
      "|   CA|                             0.2600602|\n",
      "|   NE|                             0.4714086|\n",
      "|   CT|                            0.20442922|\n",
      "|   MT|                            0.45691952|\n",
      "|   NC|                            0.19110076|\n",
      "|   VT|                            0.35786256|\n",
      "|   MD|                            0.19894281|\n",
      "|   DE|                            0.18255097|\n",
      "|   MO|                            0.23214555|\n",
      "|   IL|                            0.20281114|\n",
      "|   ME|                             0.3217633|\n",
      "|   ND|                             0.4563201|\n",
      "|   WA|                             0.2807005|\n",
      "|   MS|                            0.17852756|\n",
      "|   AL|                            0.18286069|\n",
      "|   IN|                            0.15943584|\n",
      "|   OH|                             0.1714388|\n",
      "|   TN|                             0.1802709|\n",
      "|   IA|                            0.25042665|\n",
      "|   NM|                            0.22758348|\n",
      "|   PA|                             0.1987824|\n",
      "|   SD|                             0.3852384|\n",
      "|   NY|                            0.30095518|\n",
      "|   TX|                            0.19984016|\n",
      "|   WV|                            0.20946889|\n",
      "|   GA|                             0.1841802|\n",
      "|   MA|                            0.26548636|\n",
      "|   KS|                             0.3345346|\n",
      "|   FL|                            0.16533431|\n",
      "|   CO|                             0.3942081|\n",
      "|   AK|                            0.72680545|\n",
      "|   AR|                            0.18539639|\n",
      "|   OK|                            0.18477583|\n",
      "|   UT|                            0.29933646|\n",
      "|   HI|                            0.19312705|\n",
      "+-----+--------------------------------------+\n",
      "\n"
     ]
    }
   ],
   "source": [
    "#State wise sum of grocery stores per 1000 people in 2016\n",
    "from pyspark.sql import functions as F\n",
    "\n",
    "stateWiseSum2016 = (groceryStores2016\n",
    "                    .groupBy(\"State\")\n",
    "                    .agg((F.sum(\"Value\") / F.countDistinct(\"County\")).cast(\"float\")\n",
    "                         .alias(\"Grocery Stores per 1000 people in 2016\"))\n",
    "                   )\n",
    "stateWiseSum2016.show(51)"
   ]
  },
  {
   "cell_type": "code",
   "execution_count": 17,
   "id": "05f31a9f-37bd-45b3-ae53-8af8dbe2f786",
   "metadata": {},
   "outputs": [
    {
     "name": "stdout",
     "output_type": "stream",
     "text": [
      "+-----+--------------------------------------+--------------------------------------+\n",
      "|State|Grocery Stores per 1000 people in 2016|Grocery Stores per 1000 people in 2011|\n",
      "+-----+--------------------------------------+--------------------------------------+\n",
      "|   SC|                             0.1743405|                            0.19876717|\n",
      "|   AZ|                            0.14552121|                            0.14468507|\n",
      "|   LA|                            0.19431935|                            0.22087158|\n",
      "|   MN|                            0.26038274|                            0.27297828|\n",
      "|   NJ|                            0.26881546|                              0.271296|\n",
      "|   DC|                            0.27179632|                            0.28049314|\n",
      "|   OR|                            0.28742978|                            0.33507088|\n",
      "|   VA|                             0.2201266|                            0.22909123|\n",
      "|   RI|                            0.17477185|                            0.16916852|\n",
      "|   KY|                             0.1985702|                            0.22006683|\n",
      "|   WY|                            0.24473523|                            0.26851052|\n",
      "|   NH|                            0.21243803|                            0.23924553|\n",
      "|   MI|                            0.24748085|                            0.25252953|\n",
      "|   NV|                             0.2723688|                            0.28536123|\n",
      "|   WI|                            0.20111148|                            0.20500275|\n",
      "|   ID|                            0.28282478|                            0.27207255|\n",
      "|   CA|                             0.2600602|                            0.27435142|\n",
      "|   NE|                             0.4714086|                             0.5128809|\n",
      "|   CT|                            0.20442922|                            0.19463973|\n",
      "|   MT|                            0.45691952|                             0.4770483|\n",
      "+-----+--------------------------------------+--------------------------------------+\n",
      "only showing top 20 rows\n",
      "\n"
     ]
    }
   ],
   "source": [
    "joined_df = stateWiseSum2016.join(stateWiseSum2011, 'State')\n",
    "joined_df.show()"
   ]
  },
  {
   "cell_type": "code",
   "execution_count": 18,
   "id": "1d3144e0-e6f9-4781-a61e-5d6d61b15f0d",
   "metadata": {},
   "outputs": [
    {
     "name": "stdout",
     "output_type": "stream",
     "text": [
      "+-----+--------------------------------------+--------------------------------------+-----------+\n",
      "|State|Grocery Stores per 1000 people in 2016|Grocery Stores per 1000 people in 2011|     Change|\n",
      "+-----+--------------------------------------+--------------------------------------+-----------+\n",
      "|   AK|                            0.72680545|                            0.69263047| 0.03417498|\n",
      "|   CO|                             0.3942081|                             0.3689442|0.025263906|\n",
      "|   MA|                            0.26548636|                            0.24436969|0.021116674|\n",
      "+-----+--------------------------------------+--------------------------------------+-----------+\n",
      "\n"
     ]
    }
   ],
   "source": [
    "joined_df.createOrReplaceTempView(\"grocery_stores\")\n",
    "\n",
    "query = \"\"\"SELECT \n",
    "    *,\n",
    "    (`Grocery Stores per 1000 people in 2016` - `Grocery Stores per 1000 people in 2011`) AS Change\n",
    "FROM \n",
    "    grocery_stores\n",
    "ORDER BY \n",
    "    Change DESC\n",
    "LIMIT 3\"\"\"\n",
    "\n",
    "# Execute the query\n",
    "topStates = spark.sql(query)\n",
    "\n",
    "# Show the result\n",
    "topStates.show()"
   ]
  },
  {
   "cell_type": "code",
   "execution_count": 19,
   "id": "dfedf92d-ceb4-44d4-8e24-14cb5d30f58d",
   "metadata": {},
   "outputs": [],
   "source": [
    "#Plotting bar graph\n",
    "\n",
    "# Collect data from Spark DataFrame\n",
    "top3States = topStates.collect()"
   ]
  },
  {
   "cell_type": "code",
   "execution_count": 20,
   "id": "696620d6-8fc0-406d-aedb-b78790a608d0",
   "metadata": {},
   "outputs": [],
   "source": [
    "# Convert to Pandas DataFrame\n",
    "results_df = pd.DataFrame([(row.State, row[\"Grocery Stores per 1000 people in 2011\"], row[\"Grocery Stores per 1000 people in 2016\"]) for row in top3States],\n",
    "                          columns=[\"State\", \"Grocery Stores per 1000 people in 2011\", \"Grocery Stores per 1000 people in 2016\"])"
   ]
  },
  {
   "cell_type": "code",
   "execution_count": 21,
   "id": "fea52ff9-ef29-45e7-b2fd-0115020601bc",
   "metadata": {},
   "outputs": [
    {
     "data": {
      "text/html": [
       "<div>\n",
       "<style scoped>\n",
       "    .dataframe tbody tr th:only-of-type {\n",
       "        vertical-align: middle;\n",
       "    }\n",
       "\n",
       "    .dataframe tbody tr th {\n",
       "        vertical-align: top;\n",
       "    }\n",
       "\n",
       "    .dataframe thead th {\n",
       "        text-align: right;\n",
       "    }\n",
       "</style>\n",
       "<table border=\"1\" class=\"dataframe\">\n",
       "  <thead>\n",
       "    <tr style=\"text-align: right;\">\n",
       "      <th></th>\n",
       "      <th>State</th>\n",
       "      <th>Grocery Stores per 1000 people in 2011</th>\n",
       "      <th>Grocery Stores per 1000 people in 2016</th>\n",
       "    </tr>\n",
       "  </thead>\n",
       "  <tbody>\n",
       "    <tr>\n",
       "      <th>0</th>\n",
       "      <td>AK</td>\n",
       "      <td>0.692630</td>\n",
       "      <td>0.726805</td>\n",
       "    </tr>\n",
       "    <tr>\n",
       "      <th>1</th>\n",
       "      <td>CO</td>\n",
       "      <td>0.368944</td>\n",
       "      <td>0.394208</td>\n",
       "    </tr>\n",
       "    <tr>\n",
       "      <th>2</th>\n",
       "      <td>MA</td>\n",
       "      <td>0.244370</td>\n",
       "      <td>0.265486</td>\n",
       "    </tr>\n",
       "  </tbody>\n",
       "</table>\n",
       "</div>"
      ],
      "text/plain": [
       "  State  Grocery Stores per 1000 people in 2011  \\\n",
       "0    AK                                0.692630   \n",
       "1    CO                                0.368944   \n",
       "2    MA                                0.244370   \n",
       "\n",
       "   Grocery Stores per 1000 people in 2016  \n",
       "0                                0.726805  \n",
       "1                                0.394208  \n",
       "2                                0.265486  "
      ]
     },
     "execution_count": 21,
     "metadata": {},
     "output_type": "execute_result"
    }
   ],
   "source": [
    "results_df"
   ]
  },
  {
   "cell_type": "code",
   "execution_count": 22,
   "id": "a03c78e4-a2c9-4650-9e9f-ce3d760c1342",
   "metadata": {},
   "outputs": [
    {
     "data": {
      "text/plain": [
       "<Axes: xlabel='State'>"
      ]
     },
     "execution_count": 22,
     "metadata": {},
     "output_type": "execute_result"
    },
    {
     "data": {
      "image/png": "[encoded data removed]",
      "text/plain": [
       "<Figure size 640x480 with 1 Axes>"
      ]
     },
     "metadata": {},
     "output_type": "display_data"
    }
   ],
   "source": [
    "# plotting graph \n",
    "results_df.plot(x=\"State\", y=[\"Grocery Stores per 1000 people in 2011\", \"Grocery Stores per 1000 people in 2016\"], kind=\"bar\") "
   ]
  },
  {
   "cell_type": "code",
   "execution_count": 23,
   "id": "338da7de-08b2-450d-852a-37e6f7b59aad",
   "metadata": {},
   "outputs": [],
   "source": [
    "rdd = sdf.rdd"
   ]
  },
  {
   "cell_type": "code",
   "execution_count": 24,
   "id": "5fffe94a-0d8b-41a6-bf4e-334cb60407dc",
   "metadata": {},
   "outputs": [
    {
     "data": {
      "text/plain": [
       "Row(FIPS='1001', State='AL', County='Autauga', Variable_Code='LACCESS_POP10', Value=18428.439453125)"
      ]
     },
     "execution_count": 24,
     "metadata": {},
     "output_type": "execute_result"
    }
   ],
   "source": [
    "rdd.first()"
   ]
  },
  {
   "cell_type": "code",
   "execution_count": 25,
   "id": "e6c470ff-5891-4c95-8b13-988dc078bea0",
   "metadata": {},
   "outputs": [
    {
     "name": "stdout",
     "output_type": "stream",
     "text": [
      "6.26 s ± 1.36 s per loop (mean ± std. dev. of 7 runs, 1 loop each)\n"
     ]
    }
   ],
   "source": [
    "#2011\n",
    "# Step 1: Filter the RDD\n",
    "def sparkRDD():\n",
    "    filtered_rdd_2011_16 = rdd.filter(lambda row: row.Variable_Code == 'GROCPTH11' or row.Variable_Code == 'GROCPTH16')\n",
    "    \n",
    "    # Step 2: Map to key-value pairs (State, (Value, 1))\n",
    "    mapped_rdd_2011_16 = filtered_rdd_2011_16.map(lambda row: (row.State+':'+row.Variable_Code, (float(row.Value), 1,row.State, row.Variable_Code)))\n",
    "    \n",
    "    # # Step 3: Reduce by key to sum the values and count the counties\n",
    "    reduced_rdd_2011_16 = mapped_rdd_2011_16.reduceByKey(lambda a, b: (a[0] + b[0], a[1] + b[1]))\n",
    "    \n",
    "    # # Step 4: Calculate the average value per county\n",
    "    final_res_rdd_2011_16 = reduced_rdd_2011_16.mapValues(lambda x: x[0] / x[1])\n",
    "\n",
    "    diff = sc.parallelize(final_res_rdd_2011_16.map(lambda row: (row[0].split(\":\")[0],(row[0].split(\":\")[1], row[1]))).sortBy(lambda r:r[1][0]).reduceByKey(lambda a,b: b[1]-a[1])\\\n",
    "    .sortBy(lambda r: -r[1]).take(3))\n",
    "    df_11= final_res_rdd_2011_16.filter(lambda row: row[0].split(\":\")[1] ==\"GROCPTH11\" ).map(lambda row: (row[0].split(\":\")[0], row[1]))\n",
    "    # df_16 =final_res_rdd_2011_16.filter(lambda row: row[0].split(\":\")[1] ==\"GROCPTH16\" ).map(lambda row: (row[0].split(\":\")[0], row[1]))\n",
    "    # df_11.join(df_16).join(diff).sortBy(lambda row: -row[1][1])\n",
    "\n",
    "\n",
    "# # The final_res_rdd now contains (State, Average Value Per County)\n",
    "%timeit -n 1 sparkRDD()"
   ]
  },
  {
   "cell_type": "code",
   "execution_count": 26,
   "id": "a49f8613-c64d-4ffe-9e95-ffe94a9b2450",
   "metadata": {},
   "outputs": [
    {
     "ename": "NameError",
     "evalue": "name 'final_res_rdd_2011_16' is not defined",
     "output_type": "error",
     "traceback": [
      "\u001b[0;31m---------------------------------------------------------------------------\u001b[0m",
      "\u001b[0;31mNameError\u001b[0m                                 Traceback (most recent call last)",
      "Cell \u001b[0;32mIn[26], line 1\u001b[0m\n\u001b[0;32m----> 1\u001b[0m \u001b[43mfinal_res_rdd_2011_16\u001b[49m\u001b[38;5;241m.\u001b[39mfirst()\n",
      "\u001b[0;31mNameError\u001b[0m: name 'final_res_rdd_2011_16' is not defined"
     ]
    }
   ],
   "source": [
    "final_res_rdd_2011_16.first()"
   ]
  },
  {
   "cell_type": "code",
   "execution_count": null,
   "id": "238c500b-4e98-4f21-b77d-047ab7f6665e",
   "metadata": {},
   "outputs": [],
   "source": [
    "def sparkRDD():\n",
    "    filtered_rdd_2011_16 = rdd.filter(lambda row: row.Variable_Code == 'GROCPTH11' or row.Variable_Code == 'GROCPTH16')\n",
    "        \n",
    "    # Step 2: Map to key-value pairs (State, (Value, 1))\n",
    "    mapped_rdd_2011_16 = filtered_rdd_2011_16.map(lambda row: (row.State+':'+row.Variable_Code, (float(row.Value), 1,row.State, row.Variable_Code)))\n",
    "    \n",
    "    # # Step 3: Reduce by key to sum the values and count the counties\n",
    "    reduced_rdd_2011_16 = mapped_rdd_2011_16.reduceByKey(lambda a, b: (a[0] + b[0], a[1] + b[1], a[2], a[3]))\n",
    "    final_res_rdd_2011_16 = reduced_rdd_2011_16.mapValues(lambda x: (x[0] / x[1] , x[2],x[3]))\n",
    "    diff = sc.parallelize(final_res_rdd_2011_16.map(lambda row: (row[1][1],(row[1][2], row[1][0]))).sortBy(lambda r:r[1][0]).reduceByKey(lambda a,b: b[1]-a[1])\\\n",
    "        .sortBy(lambda r: -r[1]).take(3))\n",
    "    final_ordered = final_res_rdd_2011_16.map(lambda row: (row[1][1], (row[1][0],row[1][2])))\n",
    "    df_11 = final_ordered.filter(lambda row : row[1][1] == 'GROCPTH11')\n",
    "    df_16 = final_ordered.filter(lambda row : row[1][1] == 'GROCPTH16')\n",
    "    final_result = df_11.join(df_16).join(diff).map(lambda row: (row[0], row[1][0][0][0], row[1][0][1][0],row[1][1])).sortBy(lambda row: -row[3])\n",
    "    \n",
    "%timeit -n 1 sparkRDD()\n",
    "    "
   ]
  },
  {
   "cell_type": "code",
   "execution_count": null,
   "id": "16cf671e-63e5-4aab-8c44-355887f63a82",
   "metadata": {},
   "outputs": [],
   "source": [
    "sparkRDD()"
   ]
  },
  {
   "cell_type": "code",
   "execution_count": null,
   "id": "faba887e-b8e6-4880-b081-1c5f10e13b92",
   "metadata": {},
   "outputs": [],
   "source": [
    "final_res_rdd_2011_16.collect()"
   ]
  },
  {
   "cell_type": "code",
   "execution_count": null,
   "id": "236f7d81-c06d-4d97-8a7e-8cd17cfd00ce",
   "metadata": {},
   "outputs": [],
   "source": [
    "reduced_rdd_2011_16.collect()"
   ]
  },
  {
   "cell_type": "code",
   "execution_count": null,
   "id": "cff30ffe-eb91-4793-8751-44bf4dcbce3a",
   "metadata": {},
   "outputs": [],
   "source": []
  },
  {
   "cell_type": "code",
   "execution_count": null,
   "id": "fea7aa1f-1727-434f-ab89-e94f26935309",
   "metadata": {},
   "outputs": [],
   "source": [
    "# Collect and print the first 51 results 2011\n",
    "for state, res in final_res_rdd_2011.take(51):\n",
    "    print(state, res)"
   ]
  },
  {
   "cell_type": "code",
   "execution_count": null,
   "id": "afc123eb-73ab-4f9f-b705-b2ca2601dd42",
   "metadata": {},
   "outputs": [],
   "source": [
    "#2016\n",
    "# Step 1: Filter the RDD\n",
    "filtered_rdd_2016 = rdd.filter(lambda row: row.Variable_Code == 'GROCPTH16')\n",
    "\n",
    "# Step 2: Map to key-value pairs (State, (Value, 1))\n",
    "mapped_rdd_2016 = filtered_rdd_2016.map(lambda row: (row.State, (float(row.Value), 1)))\n",
    "\n",
    "# Step 3: Reduce by key to sum the values and count the counties\n",
    "reduced_rdd_2016 = mapped_rdd_2016.reduceByKey(lambda a, b: (a[0] + b[0], a[1] + b[1]))\n",
    "\n",
    "# Step 4: Calculate the average value per county\n",
    "final_res_rdd_2016 = reduced_rdd_2016.mapValues(lambda x: x[0] / x[1])\n",
    "\n",
    "# The final_res_rdd now contains (State, Average Value Per County)\n"
   ]
  },
  {
   "cell_type": "code",
   "execution_count": null,
   "id": "579b165e-43cb-4e1d-a133-62a13bd63640",
   "metadata": {},
   "outputs": [],
   "source": [
    "# Collect and print the first 51 results 2016\n",
    "for state, res in final_res_rdd_2016.take(51):\n",
    "    print(state, res)"
   ]
  },
  {
   "cell_type": "code",
   "execution_count": null,
   "id": "e58f2489-1215-41ea-a0a7-1d6f1fb2a2fb",
   "metadata": {},
   "outputs": [],
   "source": [
    "# Assuming rdd1 and rdd2 are your RDDs and they have the format (key, value)\n",
    "# Join the RDDs on the key\n",
    "joined_rdd = final_res_rdd_2016.join(final_res_rdd_2011)\n",
    "\n",
    "# Compute the difference\n",
    "difference_rdd = joined_rdd.mapValues(lambda x: x[0] - x[1])\n",
    "\n",
    "# Now you can iterate over difference_rdd\n",
    "difference_rdd.foreach(lambda x: print(f\"Key: {x[0]}, Difference: {x[1]}\"))\n"
   ]
  },
  {
   "cell_type": "code",
   "execution_count": null,
   "id": "be672f58-f431-41a9-ab71-fa5899e4f59b",
   "metadata": {},
   "outputs": [],
   "source": [
    "# Collect and print the first 51 results 2016\n",
    "for state, res in difference_rdd.take(51):\n",
    "    print(state, res)"
   ]
  },
  {
   "cell_type": "code",
   "execution_count": null,
   "id": "3ecac95a-82d9-474e-8686-780ff3346f9c",
   "metadata": {},
   "outputs": [],
   "source": [
    "final_res = joined_rdd.join(difference_rdd).sortBy(lambda x:-x[1][1]).toDF().limit(3)"
   ]
  },
  {
   "cell_type": "code",
   "execution_count": null,
   "id": "1b028d40-b598-4dd9-a1d9-197ab399b116",
   "metadata": {},
   "outputs": [],
   "source": [
    "final_res = final_res.withColumnRenamed('_1', 'State').withColumnRenamed('_2', 'Values').select('State', 'Values.*')\\\n",
    ".withColumnRenamed('_1', '2011-2016').withColumnRenamed('_2', 'Difference')\\\n",
    ".select('State', '2011-2016.*', 'Difference').withColumnRenamed('_1', '2011').withColumnRenamed('_2', '2016')"
   ]
  },
  {
   "cell_type": "code",
   "execution_count": null,
   "id": "de93800d-7bec-4046-9b10-bd70471159ed",
   "metadata": {},
   "outputs": [],
   "source": [
    "final_res.show()"
   ]
  },
  {
   "cell_type": "code",
   "execution_count": null,
   "id": "1bee07bb-a74c-47dd-8805-15a428e546d6",
   "metadata": {},
   "outputs": [],
   "source": []
  }
 ],
 "metadata": {
  "kernelspec": {
   "display_name": "Python 3 (ipykernel)",
   "language": "python",
   "name": "python3"
  },
  "language_info": {
   "codemirror_mode": {
    "name": "ipython",
    "version": 3
   },
   "file_extension": ".py",
   "mimetype": "text/x-python",
   "name": "python",
   "nbconvert_exporter": "python",
   "pygments_lexer": "ipython3",
   "version": "3.11.6"
  }
 },
 "nbformat": 4,
 "nbformat_minor": 5
}
